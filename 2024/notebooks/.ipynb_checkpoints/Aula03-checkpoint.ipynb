{
 "cells": [
  {
   "cell_type": "markdown",
   "id": "f8c3f451-13fa-44ec-90d3-d37fd91bc35c",
   "metadata": {},
   "source": [
    "## Utilizando o pacote OS\n",
    "\n",
    "Baixando os dados do site do Leo"
   ]
  },
  {
   "cell_type": "code",
   "execution_count": 12,
   "id": "68afcec5-388a-48d9-bc98-024c83ee5929",
   "metadata": {},
   "outputs": [],
   "source": [
    "# Importando pacote os\n",
    "import os"
   ]
  },
  {
   "cell_type": "code",
   "execution_count": 18,
   "id": "435f0e00-a039-4243-87b7-d4affc958aec",
   "metadata": {},
   "outputs": [
    {
     "name": "stdout",
     "output_type": "stream",
     "text": [
      "Diretório de dados:C:\\Users\\najuw\\OneDrive\\Documentos\\GitHub\\ENS410064\\2024\\dados_de_entrada\n"
     ]
    }
   ],
   "source": [
    "#Extraindo o diretório que estamos trabalhando\n",
    "cwd = os.getcwd()\n",
    "cwd\n",
    "\n",
    "#Estabelecendo a pasta de dados que quero utilizar\n",
    "dataPath = os.path.dirname(cwd) + '\\\\dados_de_entrada'\n",
    "print('Diretório de dados:' + dataPath)"
   ]
  },
  {
   "cell_type": "code",
   "execution_count": null,
   "id": "033274c0-118e-4de0-8e10-cbcacc415cc6",
   "metadata": {},
   "outputs": [],
   "source": [
    "# Listar documentos que estão dentro da pasta de dados\n",
    "dataList = os.listdir(dataPath)\n",
    "print(dataList)"
   ]
  },
  {
   "cell_type": "code",
   "execution_count": 42,
   "id": "f72719a9-2c75-4543-83fa-a37aa27de156",
   "metadata": {},
   "outputs": [
    {
     "name": "stdout",
     "output_type": "stream",
     "text": [
      "['metar2022', 'metar2023']\n"
     ]
    }
   ],
   "source": [
    "# Extraindo os anos dos dados\n",
    "years = []\n",
    "for dl in dataList:\n",
    "    years.append(dl.split('_')[-1].split('.')[0])\n",
    "\n",
    "print(years)"
   ]
  },
  {
   "cell_type": "code",
   "execution_count": 20,
   "id": "4941b649-d938-43b5-a539-0c0995e38500",
   "metadata": {},
   "outputs": [],
   "source": [
    "import pandas as pd"
   ]
  },
  {
   "cell_type": "code",
   "execution_count": 32,
   "id": "b033b8f8-97cd-4e93-9f6f-61c529a8f400",
   "metadata": {},
   "outputs": [
    {
     "name": "stdout",
     "output_type": "stream",
     "text": [
      "metar2022.csv\n",
      "metar2023.csv\n"
     ]
    },
    {
     "data": {
      "text/html": [
       "<div>\n",
       "<style scoped>\n",
       "    .dataframe tbody tr th:only-of-type {\n",
       "        vertical-align: middle;\n",
       "    }\n",
       "\n",
       "    .dataframe tbody tr th {\n",
       "        vertical-align: top;\n",
       "    }\n",
       "\n",
       "    .dataframe thead th {\n",
       "        text-align: right;\n",
       "    }\n",
       "</style>\n",
       "<table border=\"1\" class=\"dataframe\">\n",
       "  <thead>\n",
       "    <tr style=\"text-align: right;\">\n",
       "      <th></th>\n",
       "      <th>day</th>\n",
       "      <th>month</th>\n",
       "      <th>year</th>\n",
       "      <th>hour</th>\n",
       "      <th>ct</th>\n",
       "      <th>wd</th>\n",
       "      <th>ws</th>\n",
       "      <th>hc</th>\n",
       "      <th>ccp</th>\n",
       "      <th>cco</th>\n",
       "      <th>p</th>\n",
       "      <th>temp</th>\n",
       "      <th>dpTemp</th>\n",
       "      <th>vis</th>\n",
       "      <th>pw</th>\n",
       "      <th>relh</th>\n",
       "    </tr>\n",
       "  </thead>\n",
       "  <tbody>\n",
       "    <tr>\n",
       "      <th>0</th>\n",
       "      <td>1</td>\n",
       "      <td>1</td>\n",
       "      <td>2022</td>\n",
       "      <td>0</td>\n",
       "      <td>NaN</td>\n",
       "      <td>120.0</td>\n",
       "      <td>1.543332</td>\n",
       "      <td>914.4</td>\n",
       "      <td>1.0</td>\n",
       "      <td>1.0</td>\n",
       "      <td>1009.678792</td>\n",
       "      <td>23.0</td>\n",
       "      <td>21.0</td>\n",
       "      <td>NaN</td>\n",
       "      <td>0.0</td>\n",
       "      <td>88.51</td>\n",
       "    </tr>\n",
       "    <tr>\n",
       "      <th>1</th>\n",
       "      <td>1</td>\n",
       "      <td>1</td>\n",
       "      <td>2022</td>\n",
       "      <td>1</td>\n",
       "      <td>NaN</td>\n",
       "      <td>280.0</td>\n",
       "      <td>1.028888</td>\n",
       "      <td>NaN</td>\n",
       "      <td>NaN</td>\n",
       "      <td>NaN</td>\n",
       "      <td>1009.685980</td>\n",
       "      <td>20.0</td>\n",
       "      <td>20.0</td>\n",
       "      <td>NaN</td>\n",
       "      <td>0.0</td>\n",
       "      <td>100.00</td>\n",
       "    </tr>\n",
       "    <tr>\n",
       "      <th>2</th>\n",
       "      <td>1</td>\n",
       "      <td>1</td>\n",
       "      <td>2022</td>\n",
       "      <td>2</td>\n",
       "      <td>NaN</td>\n",
       "      <td>NaN</td>\n",
       "      <td>0.514444</td>\n",
       "      <td>NaN</td>\n",
       "      <td>NaN</td>\n",
       "      <td>NaN</td>\n",
       "      <td>1009.678792</td>\n",
       "      <td>22.0</td>\n",
       "      <td>21.0</td>\n",
       "      <td>NaN</td>\n",
       "      <td>0.0</td>\n",
       "      <td>94.06</td>\n",
       "    </tr>\n",
       "    <tr>\n",
       "      <th>3</th>\n",
       "      <td>1</td>\n",
       "      <td>1</td>\n",
       "      <td>2022</td>\n",
       "      <td>3</td>\n",
       "      <td>NaN</td>\n",
       "      <td>NaN</td>\n",
       "      <td>1.028888</td>\n",
       "      <td>457.2</td>\n",
       "      <td>1.0</td>\n",
       "      <td>1.0</td>\n",
       "      <td>1009.682386</td>\n",
       "      <td>21.0</td>\n",
       "      <td>21.0</td>\n",
       "      <td>NaN</td>\n",
       "      <td>0.0</td>\n",
       "      <td>100.00</td>\n",
       "    </tr>\n",
       "    <tr>\n",
       "      <th>4</th>\n",
       "      <td>1</td>\n",
       "      <td>1</td>\n",
       "      <td>2022</td>\n",
       "      <td>4</td>\n",
       "      <td>NaN</td>\n",
       "      <td>NaN</td>\n",
       "      <td>1.028888</td>\n",
       "      <td>NaN</td>\n",
       "      <td>NaN</td>\n",
       "      <td>NaN</td>\n",
       "      <td>1009.685980</td>\n",
       "      <td>22.0</td>\n",
       "      <td>20.0</td>\n",
       "      <td>NaN</td>\n",
       "      <td>0.0</td>\n",
       "      <td>88.43</td>\n",
       "    </tr>\n",
       "  </tbody>\n",
       "</table>\n",
       "</div>"
      ],
      "text/plain": [
       "   day  month  year  hour  ct     wd        ws     hc  ccp  cco            p  \\\n",
       "0    1      1  2022     0 NaN  120.0  1.543332  914.4  1.0  1.0  1009.678792   \n",
       "1    1      1  2022     1 NaN  280.0  1.028888    NaN  NaN  NaN  1009.685980   \n",
       "2    1      1  2022     2 NaN    NaN  0.514444    NaN  NaN  NaN  1009.678792   \n",
       "3    1      1  2022     3 NaN    NaN  1.028888  457.2  1.0  1.0  1009.682386   \n",
       "4    1      1  2022     4 NaN    NaN  1.028888    NaN  NaN  NaN  1009.685980   \n",
       "\n",
       "   temp  dpTemp  vis   pw    relh  \n",
       "0  23.0    21.0  NaN  0.0   88.51  \n",
       "1  20.0    20.0  NaN  0.0  100.00  \n",
       "2  22.0    21.0  NaN  0.0   94.06  \n",
       "3  21.0    21.0  NaN  0.0  100.00  \n",
       "4  22.0    20.0  NaN  0.0   88.43  "
      ]
     },
     "execution_count": 32,
     "metadata": {},
     "output_type": "execute_result"
    }
   ],
   "source": [
    "# Lendo todos os arquivos da pasta\n",
    "dataAll=[]\n",
    "for dl in dataList:\n",
    "    print(dl)\n",
    "    data = pd.read_csv(dataPath + '\\\\' + dl)\n",
    "    dataAll.append(data)\n",
    "\n",
    "#Concatenando a lista de dados\n",
    "dataAll = pd.concat(dataAll)\n",
    "dataAll.head()"
   ]
  }
 ],
 "metadata": {
  "kernelspec": {
   "display_name": "Python 3 (ipykernel)",
   "language": "python",
   "name": "python3"
  },
  "language_info": {
   "codemirror_mode": {
    "name": "ipython",
    "version": 3
   },
   "file_extension": ".py",
   "mimetype": "text/x-python",
   "name": "python",
   "nbconvert_exporter": "python",
   "pygments_lexer": "ipython3",
   "version": "3.12.6"
  }
 },
 "nbformat": 4,
 "nbformat_minor": 5
}
