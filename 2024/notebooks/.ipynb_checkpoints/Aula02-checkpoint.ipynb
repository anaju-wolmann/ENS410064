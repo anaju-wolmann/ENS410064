{
 "cells": [
  {
   "cell_type": "markdown",
   "id": "5e603b01-3815-40fc-b0ba-65161c25d09f",
   "metadata": {},
   "source": [
    "## Aula 02\n",
    "\n",
    "Nesta aula veremos: <br>\n",
    "\n",
    "- Continuação doa tópicos de variáveis\n",
    "- Pacote numpy\n",
    "- Pacote pandas\n",
    "- matplotlib - plotagem de figuras\n"
   ]
  },
  {
   "cell_type": "code",
   "execution_count": 2,
   "id": "52736da1-1b86-404f-9765-ae81d2a0260b",
   "metadata": {},
   "outputs": [
    {
     "name": "stdout",
     "output_type": "stream",
     "text": [
      "30\n"
     ]
    }
   ],
   "source": [
    "a = [1,2,3,10,20,30]\n",
    "\n",
    "print(a[-1])"
   ]
  },
  {
   "cell_type": "code",
   "execution_count": 3,
   "id": "fb32d477-f60f-455b-b8a4-51d565f9a64d",
   "metadata": {},
   "outputs": [
    {
     "name": "stdout",
     "output_type": "stream",
     "text": [
      "O comprimento da lista a é: 6\n"
     ]
    }
   ],
   "source": [
    "# Determinando o comprimento da lista\n",
    "\n",
    "b = len(a)\n",
    "print('O comprimento da lista a é: ' + str(b))"
   ]
  },
  {
   "cell_type": "markdown",
   "id": "35697a13-68e5-4f3c-bce5-25148c7f8caa",
   "metadata": {},
   "source": [
    "## O pacote numpy\n",
    "https://numpy.org/\n",
    "\n",
    "Este pacote serve para operações matriciais e estatísticas básicas"
   ]
  },
  {
   "cell_type": "code",
   "execution_count": 4,
   "id": "81ac4958-7e04-46b2-a9e3-c724405abab4",
   "metadata": {},
   "outputs": [],
   "source": [
    "# Importando o numpy\n",
    "import numpy as np"
   ]
  },
  {
   "cell_type": "code",
   "execution_count": 8,
   "id": "81660379-5418-4d40-9737-89d4e0fc8d29",
   "metadata": {},
   "outputs": [
    {
     "name": "stdout",
     "output_type": "stream",
     "text": [
      "[0.71989408 0.18401099 0.40218088 0.63264078 0.75963778 0.46524665\n",
      " 0.85639596 0.40103927 0.15846892 0.50623516 0.17481571 0.68882898\n",
      " 0.44491155 0.91734334 0.00708628 0.30613859 0.5159944  0.15024941\n",
      " 0.39408736 0.40882711 0.91668011 0.99326236 0.47653661 0.02220423\n",
      " 0.21623493 0.09338955 0.32801685 0.16638283 0.45735018 0.91871319\n",
      " 0.91889008 0.91106815 0.56306577 0.39676587 0.91951529 0.79705309\n",
      " 0.95064469 0.08610942 0.56596672 0.26639837 0.57181027 0.2889321\n",
      " 0.33311672 0.92451074 0.31564313 0.37618933 0.85760019 0.71747989\n",
      " 0.26909197 0.72763247 0.07701472 0.87935734 0.19106275 0.04243827\n",
      " 0.84775662 0.08240803 0.10826444 0.15449398 0.64805408 0.9172686\n",
      " 0.40195922 0.5482534  0.26143717 0.31137249 0.52461921 0.63809849\n",
      " 0.12997184 0.08550676 0.5567832  0.55464436 0.16285901 0.4317624\n",
      " 0.33655387 0.00105956 0.64240387 0.3388722  0.82441643 0.04357512\n",
      " 0.96736634 0.30386278 0.06694874 0.55221079 0.05648012 0.22680537\n",
      " 0.22836347 0.801302   0.15355909 0.85767777 0.51092559 0.82899823\n",
      " 0.76105367 0.22776785 0.71152599 0.31346521 0.42526062 0.62388152\n",
      " 0.18557603 0.26972861 0.3907507  0.15798768]\n",
      "<class 'numpy.ndarray'>\n",
      "O último valor de c é: 0.15798767534168912\n"
     ]
    }
   ],
   "source": [
    "# Criando um número aleatório com numpy\n",
    "\n",
    "c = np.random.rand(100)\n",
    "print(c)\n",
    "print(type(c))\n",
    "\n",
    "# Acessando o último valor de array numpy\n",
    "print('O último valor de c é: ' + str(c[-1]))"
   ]
  },
  {
   "cell_type": "code",
   "execution_count": null,
   "id": "b56070ad-3c75-4755-a2c4-3dec93a7800a",
   "metadata": {},
   "outputs": [],
   "source": []
  }
 ],
 "metadata": {
  "kernelspec": {
   "display_name": "Python 3 (ipykernel)",
   "language": "python",
   "name": "python3"
  },
  "language_info": {
   "codemirror_mode": {
    "name": "ipython",
    "version": 3
   },
   "file_extension": ".py",
   "mimetype": "text/x-python",
   "name": "python",
   "nbconvert_exporter": "python",
   "pygments_lexer": "ipython3",
   "version": "3.12.6"
  }
 },
 "nbformat": 4,
 "nbformat_minor": 5
}
