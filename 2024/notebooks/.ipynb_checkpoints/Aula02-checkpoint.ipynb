{
 "cells": [
  {
   "cell_type": "markdown",
   "id": "2616e9fa-121f-4091-a228-ea39e7797b29",
   "metadata": {},
   "source": [
    "# Aula 02\n",
    "Nesta aula vamos trabalhar com os comenados básicos do Phyton\n",
    "\n",
    "- Tipo de variáveis\n",
    "- Operações matemáticas\n",
    "- Uso de pacotes\n",
    "- numpy array\n",
    "- Condições"
   ]
  },
  {
   "cell_type": "markdown",
   "id": "e883d459-116e-4c74-9312-4e3db90d4ef7",
   "metadata": {},
   "source": [
    "## Tipos de variáveis"
   ]
  },
  {
   "cell_type": "code",
   "execution_count": 4,
   "id": "f535e384-064e-46e0-8f60-ab695024cdc6",
   "metadata": {},
   "outputs": [
    {
     "name": "stdout",
     "output_type": "stream",
     "text": [
      "O valor de a é igual a 1 funcionou após transformar em uma string\n",
      "<class 'int'>\n"
     ]
    }
   ],
   "source": [
    "# números inteiros\n",
    "\n",
    "a = 1\n",
    "\n",
    "# printa na tela\n",
    "print('O valor de a é igual a ' + str(a) + ' funcionou após transformar em uma string')\n",
    "print(type(a))"
   ]
  },
  {
   "cell_type": "code",
   "execution_count": 6,
   "id": "ad5f8dc5-862e-489b-83ed-4efe7a5f73d2",
   "metadata": {},
   "outputs": [
    {
     "name": "stdout",
     "output_type": "stream",
     "text": [
      "O valor de b é igual a 3.1416 funcionou após transformar em uma string\n",
      "<class 'float'>\n"
     ]
    }
   ],
   "source": [
    "# números reais - float - double - double precision\n",
    "\n",
    "b = 3.1416\n",
    "print('O valor de b é igual a ' + str(b) + ' funcionou após transformar em uma string')\n",
    "print(type(b))"
   ]
  },
  {
   "cell_type": "code",
   "execution_count": 15,
   "id": "87c5caef-0613-441a-beba-def2e0ab2eb3",
   "metadata": {},
   "outputs": [
    {
     "name": "stdout",
     "output_type": "stream",
     "text": [
      "Bianca está fazendo bagunça com ajuda de Bruno e Ana Julia\n",
      "<class 'str'>\n"
     ]
    }
   ],
   "source": [
    "# texto - char - string\n",
    "\n",
    "c = 'Bianca está fazendo bagunça'\n",
    "d = ' com ajuda de '\n",
    "e = 'Bruno e Ana Julia'\n",
    "\n",
    "print(c + d + e)\n",
    "print(type(c))\n"
   ]
  },
  {
   "cell_type": "code",
   "execution_count": 17,
   "id": "dc1c6176-0d33-43b3-ae4b-692873f5e27b",
   "metadata": {},
   "outputs": [
    {
     "name": "stdout",
     "output_type": "stream",
     "text": [
      "['Marcos', 'Maria Eduarda', 'Djesser', 'Rafael']\n",
      "<class 'list'>\n",
      "O tamanho da lista é 4\n",
      "[1, 2, 3, 10, 7]\n",
      "[10, 10, 10, 6, 'José', 'Marcos', 'Rafael', 'Bruno']\n"
     ]
    }
   ],
   "source": [
    "# lista de texto - list\n",
    "namesList = ['Marcos', 'Maria Eduarda', 'Djesser', 'Rafael']\n",
    "\n",
    "print(namesList)\n",
    "\n",
    "print(type(namesList))\n",
    "\n",
    "# comando para identificar tamanho da lista\n",
    "print('O tamanho da lista é ' + str(len(namesList)))\n",
    "\n",
    "# agora, uma lista de números\n",
    "numList = [1,2,3,10,7]\n",
    "\n",
    "print(numList)\n",
    "\n",
    "# agora, uma lista de números e strings\n",
    "\n",
    "numNameList = [10,10,10,6,'José', 'Marcos', 'Rafael', 'Bruno']\n",
    "\n",
    "print(numNameList)"
   ]
  },
  {
   "cell_type": "code",
   "execution_count": 22,
   "id": "1d839a65-6e04-453c-875d-48617c76a577",
   "metadata": {},
   "outputs": [
    {
     "name": "stdout",
     "output_type": "stream",
     "text": [
      "Marcos\n",
      "<class 'str'>\n"
     ]
    }
   ],
   "source": [
    "# acessando os valores da lista\n",
    "\n",
    "# acessando o primeiro valor da lista\n",
    "print(namesList[0])\n",
    "\n",
    "#determina o tipo da variável na posição 0 da linha\n",
    "print(type(namesList[0]))\n"
   ]
  },
  {
   "cell_type": "code",
   "execution_count": 30,
   "id": "eabebc91-1762-4367-adcf-318afcf3363a",
   "metadata": {},
   "outputs": [
    {
     "name": "stdout",
     "output_type": "stream",
     "text": [
      "<class 'dict'>\n",
      "[1.95, 1.67, 1.63]\n",
      "Larissa\n"
     ]
    }
   ],
   "source": [
    "# dicionários\n",
    "\n",
    "namesDict = {\n",
    "    'name': ['Marcos', 'Larissa', 'Daphne'],\n",
    "    'Altura': [1.95, 1.67, 1.63]\n",
    "}\n",
    "\n",
    "print(type(namesDict))\n",
    "\n",
    "# extraindo os valores das variáveis Altura dentro do dicionário namesDict\n",
    "\n",
    "print(namesDict['Altura'])\n",
    "\n",
    "# extraindo o segundo valor da váriavel Altura dentro do dicionário namesDict\n",
    "\n",
    "print(namesDict['name'][1])"
   ]
  },
  {
   "cell_type": "markdown",
   "id": "a0e678c2-d976-4585-9a58-86874efb8cf8",
   "metadata": {},
   "source": [
    "# Operações matemáticas"
   ]
  },
  {
   "cell_type": "code",
   "execution_count": 37,
   "id": "400bff7f-e589-4d19-9d0b-a933d0258935",
   "metadata": {},
   "outputs": [
    {
     "name": "stdout",
     "output_type": "stream",
     "text": [
      "1.95\n",
      "1.67\n",
      "1.63\n",
      "A soma das alturas é = 5.25\n",
      "índice da matriz é 0 e a altura de Marcos é 1.95\n",
      "índice da matriz é 1 e a altura de Larissa é 1.67\n",
      "índice da matriz é 2 e a altura de Daphne é 1.63\n"
     ]
    }
   ],
   "source": [
    "#soma das alturas do dicionárionamesDict utilizando Loop\n",
    "somaDasAlturas = 0\n",
    "for alturas in namesDict['Altura']:\n",
    "    print(alturas)\n",
    "    somaDasAlturas = somaDasAlturas + alturas\n",
    "print('A soma das alturas é = ' + str(somaDasAlturas))\n",
    "\n",
    "# usando outra forma de Loop\n",
    "for ii,alturas in enumerate(namesDict['Altura']):\n",
    "    print('índice da matriz é ' + str(ii) + ' e a altura de ' + str(namesDict['name'][ii]) + ' é '+ str(alturas))"
   ]
  },
  {
   "cell_type": "code",
   "execution_count": null,
   "id": "489bd72a-ab37-495e-bf1f-29baf4a30085",
   "metadata": {},
   "outputs": [],
   "source": []
  }
 ],
 "metadata": {
  "kernelspec": {
   "display_name": "Python 3 (ipykernel)",
   "language": "python",
   "name": "python3"
  },
  "language_info": {
   "codemirror_mode": {
    "name": "ipython",
    "version": 3
   },
   "file_extension": ".py",
   "mimetype": "text/x-python",
   "name": "python",
   "nbconvert_exporter": "python",
   "pygments_lexer": "ipython3",
   "version": "3.12.6"
  }
 },
 "nbformat": 4,
 "nbformat_minor": 5
}
